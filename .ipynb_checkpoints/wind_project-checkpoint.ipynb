{
 "cells": [
  {
   "cell_type": "code",
   "execution_count": 1,
   "id": "60879e1c",
   "metadata": {},
   "outputs": [],
   "source": [
    "#improting libraries\n",
    "#importing the libraries\n",
    "# Libraries to help with reading and manipulating data\n",
    "import pandas as pd\n",
    "import numpy as np\n",
    "import climetlab as cml\n",
    "import xarray as xr\n",
    "import openpyxl\n",
    "from windrose import WindroseAxes\n",
    "\n",
    "# Libaries to help with data visualization\n",
    "import matplotlib.pyplot as plt\n",
    "import matplotlib.cm as cm\n",
    "\n",
    "\n",
    "import seaborn as sns\n",
    "sns.set()\n",
    "\n",
    "import glob\n",
    "# Code to ignore warnings from function usage\n",
    "import warnings;\n",
    "import numpy as np\n",
    "warnings.filterwarnings('ignore')"
   ]
  },
  {
   "cell_type": "code",
   "execution_count": 2,
   "id": "6c856bb0",
   "metadata": {},
   "outputs": [],
   "source": [
    "#pip install windrose\n"
   ]
  },
  {
   "cell_type": "code",
   "execution_count": null,
   "id": "60974819",
   "metadata": {},
   "outputs": [],
   "source": []
  },
  {
   "cell_type": "code",
   "execution_count": null,
   "id": "6d11454f",
   "metadata": {},
   "outputs": [],
   "source": []
  },
  {
   "cell_type": "code",
   "execution_count": 5,
   "id": "0c87cbf3",
   "metadata": {},
   "outputs": [],
   "source": [
    "#!pip install git+https://github.com/python-windrose/windrose"
   ]
  },
  {
   "cell_type": "code",
   "execution_count": 7,
   "id": "8c686173",
   "metadata": {},
   "outputs": [],
   "source": [
    "#ds = cml.load_source('file', 'wind.grib')"
   ]
  },
  {
   "cell_type": "code",
   "execution_count": 8,
   "id": "0f6bd5ed",
   "metadata": {},
   "outputs": [],
   "source": [
    "#ds= ds.to_xarray()"
   ]
  },
  {
   "cell_type": "code",
   "execution_count": null,
   "id": "6a988733",
   "metadata": {},
   "outputs": [],
   "source": []
  },
  {
   "cell_type": "code",
   "execution_count": 9,
   "id": "f03ec97e",
   "metadata": {},
   "outputs": [],
   "source": [
    "#u10=ds.u10.values\n",
    "#v10=ds.v10.values"
   ]
  },
  {
   "cell_type": "code",
   "execution_count": 10,
   "id": "fc20cc21",
   "metadata": {
    "scrolled": true
   },
   "outputs": [],
   "source": [
    "# Create a cube containing the wind speed.\n",
    "#windspeed = (ds.u10**2 + ds.v10**2) ** 0.5\n",
    "#windspeed=windspeed.rename(\"windspeed\")"
   ]
  },
  {
   "cell_type": "code",
   "execution_count": 12,
   "id": "914ce7e5",
   "metadata": {},
   "outputs": [],
   "source": [
    "#angleSpeed = np.tan(ds.v10/ds.u10)\n",
    "#angleSpeed= angleSpeed.rename(\"angleSpeed\")"
   ]
  },
  {
   "cell_type": "code",
   "execution_count": 13,
   "id": "afa129e4",
   "metadata": {},
   "outputs": [],
   "source": [
    "#dfAngle= angleSpeed.to_dataframe()"
   ]
  },
  {
   "cell_type": "code",
   "execution_count": 14,
   "id": "ea27d33f",
   "metadata": {},
   "outputs": [
    {
     "data": {
      "text/html": [
       "<div>\n",
       "<style scoped>\n",
       "    .dataframe tbody tr th:only-of-type {\n",
       "        vertical-align: middle;\n",
       "    }\n",
       "\n",
       "    .dataframe tbody tr th {\n",
       "        vertical-align: top;\n",
       "    }\n",
       "\n",
       "    .dataframe thead th {\n",
       "        text-align: right;\n",
       "    }\n",
       "</style>\n",
       "<table border=\"1\" class=\"dataframe\">\n",
       "  <thead>\n",
       "    <tr style=\"text-align: right;\">\n",
       "      <th></th>\n",
       "      <th></th>\n",
       "      <th></th>\n",
       "      <th></th>\n",
       "      <th></th>\n",
       "      <th></th>\n",
       "      <th>valid_time</th>\n",
       "      <th>angleSpeed</th>\n",
       "    </tr>\n",
       "    <tr>\n",
       "      <th>number</th>\n",
       "      <th>time</th>\n",
       "      <th>step</th>\n",
       "      <th>surface</th>\n",
       "      <th>latitude</th>\n",
       "      <th>longitude</th>\n",
       "      <th></th>\n",
       "      <th></th>\n",
       "    </tr>\n",
       "  </thead>\n",
       "  <tbody>\n",
       "    <tr>\n",
       "      <th rowspan=\"5\" valign=\"top\">0</th>\n",
       "      <th rowspan=\"5\" valign=\"top\">2021-01-01</th>\n",
       "      <th rowspan=\"5\" valign=\"top\">0 days</th>\n",
       "      <th rowspan=\"5\" valign=\"top\">0.0</th>\n",
       "      <th rowspan=\"5\" valign=\"top\">15.27</th>\n",
       "      <th>-84.77</th>\n",
       "      <td>2021-01-01</td>\n",
       "      <td>-0.585254</td>\n",
       "    </tr>\n",
       "    <tr>\n",
       "      <th>-84.02</th>\n",
       "      <td>2021-01-01</td>\n",
       "      <td>-0.529417</td>\n",
       "    </tr>\n",
       "    <tr>\n",
       "      <th>-83.27</th>\n",
       "      <td>2021-01-01</td>\n",
       "      <td>-0.385477</td>\n",
       "    </tr>\n",
       "    <tr>\n",
       "      <th>-82.52</th>\n",
       "      <td>2021-01-01</td>\n",
       "      <td>-0.289316</td>\n",
       "    </tr>\n",
       "    <tr>\n",
       "      <th>-81.77</th>\n",
       "      <td>2021-01-01</td>\n",
       "      <td>-0.198213</td>\n",
       "    </tr>\n",
       "  </tbody>\n",
       "</table>\n",
       "</div>"
      ],
      "text/plain": [
       "                                                    valid_time  angleSpeed\n",
       "number time       step   surface latitude longitude                       \n",
       "0      2021-01-01 0 days 0.0     15.27    -84.77    2021-01-01   -0.585254\n",
       "                                          -84.02    2021-01-01   -0.529417\n",
       "                                          -83.27    2021-01-01   -0.385477\n",
       "                                          -82.52    2021-01-01   -0.289316\n",
       "                                          -81.77    2021-01-01   -0.198213"
      ]
     },
     "execution_count": 14,
     "metadata": {},
     "output_type": "execute_result"
    }
   ],
   "source": [
    "#dfAngle.head()"
   ]
  },
  {
   "cell_type": "code",
   "execution_count": 15,
   "id": "6a04afe3",
   "metadata": {},
   "outputs": [],
   "source": [
    "#df=windspeed.to_dataframe()"
   ]
  },
  {
   "cell_type": "code",
   "execution_count": 16,
   "id": "817dabc2",
   "metadata": {},
   "outputs": [],
   "source": [
    "#df['angle']= dfAngle['angleSpeed']"
   ]
  },
  {
   "cell_type": "code",
   "execution_count": 17,
   "id": "5e2d62cd",
   "metadata": {},
   "outputs": [],
   "source": [
    "#representation of the wind speed on the x and y axis\n",
    "#df['speed_x']=df['windspeed']*np.sin(df['angle']*np.pi/180)\n",
    "#df['speed_y']=df['windspeed']*np.cos(df['angle']*np.pi/180)"
   ]
  },
  {
   "cell_type": "code",
   "execution_count": 18,
   "id": "16f9fb77",
   "metadata": {},
   "outputs": [
    {
     "data": {
      "text/html": [
       "<div>\n",
       "<style scoped>\n",
       "    .dataframe tbody tr th:only-of-type {\n",
       "        vertical-align: middle;\n",
       "    }\n",
       "\n",
       "    .dataframe tbody tr th {\n",
       "        vertical-align: top;\n",
       "    }\n",
       "\n",
       "    .dataframe thead th {\n",
       "        text-align: right;\n",
       "    }\n",
       "</style>\n",
       "<table border=\"1\" class=\"dataframe\">\n",
       "  <thead>\n",
       "    <tr style=\"text-align: right;\">\n",
       "      <th></th>\n",
       "      <th></th>\n",
       "      <th></th>\n",
       "      <th></th>\n",
       "      <th></th>\n",
       "      <th></th>\n",
       "      <th>valid_time</th>\n",
       "      <th>windspeed</th>\n",
       "      <th>angle</th>\n",
       "      <th>speed_x</th>\n",
       "      <th>speed_y</th>\n",
       "    </tr>\n",
       "    <tr>\n",
       "      <th>number</th>\n",
       "      <th>time</th>\n",
       "      <th>step</th>\n",
       "      <th>surface</th>\n",
       "      <th>latitude</th>\n",
       "      <th>longitude</th>\n",
       "      <th></th>\n",
       "      <th></th>\n",
       "      <th></th>\n",
       "      <th></th>\n",
       "      <th></th>\n",
       "    </tr>\n",
       "  </thead>\n",
       "  <tbody>\n",
       "    <tr>\n",
       "      <th rowspan=\"5\" valign=\"top\">0</th>\n",
       "      <th rowspan=\"5\" valign=\"top\">2021-01-01</th>\n",
       "      <th rowspan=\"5\" valign=\"top\">0 days</th>\n",
       "      <th rowspan=\"5\" valign=\"top\">0.0</th>\n",
       "      <th rowspan=\"5\" valign=\"top\">15.27</th>\n",
       "      <th>-84.77</th>\n",
       "      <td>2021-01-01</td>\n",
       "      <td>2.401274</td>\n",
       "      <td>-0.585254</td>\n",
       "      <td>-0.024528</td>\n",
       "      <td>2.401149</td>\n",
       "    </tr>\n",
       "    <tr>\n",
       "      <th>-84.02</th>\n",
       "      <td>2021-01-01</td>\n",
       "      <td>4.240481</td>\n",
       "      <td>-0.529417</td>\n",
       "      <td>-0.039182</td>\n",
       "      <td>4.240300</td>\n",
       "    </tr>\n",
       "    <tr>\n",
       "      <th>-83.27</th>\n",
       "      <td>2021-01-01</td>\n",
       "      <td>6.727308</td>\n",
       "      <td>-0.385477</td>\n",
       "      <td>-0.045260</td>\n",
       "      <td>6.727155</td>\n",
       "    </tr>\n",
       "    <tr>\n",
       "      <th>-82.52</th>\n",
       "      <td>2021-01-01</td>\n",
       "      <td>8.902244</td>\n",
       "      <td>-0.289316</td>\n",
       "      <td>-0.044952</td>\n",
       "      <td>8.902130</td>\n",
       "    </tr>\n",
       "    <tr>\n",
       "      <th>-81.77</th>\n",
       "      <td>2021-01-01</td>\n",
       "      <td>9.612068</td>\n",
       "      <td>-0.198213</td>\n",
       "      <td>-0.033253</td>\n",
       "      <td>9.612011</td>\n",
       "    </tr>\n",
       "  </tbody>\n",
       "</table>\n",
       "</div>"
      ],
      "text/plain": [
       "                                                    valid_time  windspeed  \\\n",
       "number time       step   surface latitude longitude                         \n",
       "0      2021-01-01 0 days 0.0     15.27    -84.77    2021-01-01   2.401274   \n",
       "                                          -84.02    2021-01-01   4.240481   \n",
       "                                          -83.27    2021-01-01   6.727308   \n",
       "                                          -82.52    2021-01-01   8.902244   \n",
       "                                          -81.77    2021-01-01   9.612068   \n",
       "\n",
       "                                                        angle   speed_x  \\\n",
       "number time       step   surface latitude longitude                       \n",
       "0      2021-01-01 0 days 0.0     15.27    -84.77    -0.585254 -0.024528   \n",
       "                                          -84.02    -0.529417 -0.039182   \n",
       "                                          -83.27    -0.385477 -0.045260   \n",
       "                                          -82.52    -0.289316 -0.044952   \n",
       "                                          -81.77    -0.198213 -0.033253   \n",
       "\n",
       "                                                      speed_y  \n",
       "number time       step   surface latitude longitude            \n",
       "0      2021-01-01 0 days 0.0     15.27    -84.77     2.401149  \n",
       "                                          -84.02     4.240300  \n",
       "                                          -83.27     6.727155  \n",
       "                                          -82.52     8.902130  \n",
       "                                          -81.77     9.612011  "
      ]
     },
     "execution_count": 18,
     "metadata": {},
     "output_type": "execute_result"
    }
   ],
   "source": [
    "#df.head()"
   ]
  },
  {
   "cell_type": "markdown",
   "id": "b9ba733e",
   "metadata": {},
   "source": [
    "### Exploratory data analysis"
   ]
  },
  {
   "cell_type": "code",
   "execution_count": 19,
   "id": "ce3fe803",
   "metadata": {},
   "outputs": [
    {
     "data": {
      "text/plain": [
       "(466560, 5)"
      ]
     },
     "execution_count": 19,
     "metadata": {},
     "output_type": "execute_result"
    }
   ],
   "source": [
    "#df.shape"
   ]
  },
  {
   "cell_type": "code",
   "execution_count": 20,
   "id": "36e3c415",
   "metadata": {},
   "outputs": [
    {
     "data": {
      "text/html": [
       "<div>\n",
       "<style scoped>\n",
       "    .dataframe tbody tr th:only-of-type {\n",
       "        vertical-align: middle;\n",
       "    }\n",
       "\n",
       "    .dataframe tbody tr th {\n",
       "        vertical-align: top;\n",
       "    }\n",
       "\n",
       "    .dataframe thead th {\n",
       "        text-align: right;\n",
       "    }\n",
       "</style>\n",
       "<table border=\"1\" class=\"dataframe\">\n",
       "  <thead>\n",
       "    <tr style=\"text-align: right;\">\n",
       "      <th></th>\n",
       "      <th>count</th>\n",
       "      <th>mean</th>\n",
       "      <th>std</th>\n",
       "      <th>min</th>\n",
       "      <th>25%</th>\n",
       "      <th>50%</th>\n",
       "      <th>75%</th>\n",
       "      <th>max</th>\n",
       "    </tr>\n",
       "  </thead>\n",
       "  <tbody>\n",
       "    <tr>\n",
       "      <th>windspeed</th>\n",
       "      <td>466560.0</td>\n",
       "      <td>3.737738</td>\n",
       "      <td>3.266243</td>\n",
       "      <td>0.002225</td>\n",
       "      <td>1.186310</td>\n",
       "      <td>2.429169</td>\n",
       "      <td>5.565389</td>\n",
       "      <td>16.479275</td>\n",
       "    </tr>\n",
       "    <tr>\n",
       "      <th>angle</th>\n",
       "      <td>466560.0</td>\n",
       "      <td>-0.336631</td>\n",
       "      <td>492.573975</td>\n",
       "      <td>-202786.609375</td>\n",
       "      <td>-0.388511</td>\n",
       "      <td>0.196009</td>\n",
       "      <td>0.788890</td>\n",
       "      <td>105694.335938</td>\n",
       "    </tr>\n",
       "    <tr>\n",
       "      <th>speed_x</th>\n",
       "      <td>466560.0</td>\n",
       "      <td>0.021109</td>\n",
       "      <td>0.369043</td>\n",
       "      <td>-11.495910</td>\n",
       "      <td>-0.009912</td>\n",
       "      <td>0.008729</td>\n",
       "      <td>0.048839</td>\n",
       "      <td>10.451612</td>\n",
       "    </tr>\n",
       "    <tr>\n",
       "      <th>speed_y</th>\n",
       "      <td>466560.0</td>\n",
       "      <td>3.707487</td>\n",
       "      <td>3.279739</td>\n",
       "      <td>-10.870589</td>\n",
       "      <td>1.167691</td>\n",
       "      <td>2.397326</td>\n",
       "      <td>5.525764</td>\n",
       "      <td>16.478964</td>\n",
       "    </tr>\n",
       "  </tbody>\n",
       "</table>\n",
       "</div>"
      ],
      "text/plain": [
       "              count      mean         std            min       25%       50%  \\\n",
       "windspeed  466560.0  3.737738    3.266243       0.002225  1.186310  2.429169   \n",
       "angle      466560.0 -0.336631  492.573975 -202786.609375 -0.388511  0.196009   \n",
       "speed_x    466560.0  0.021109    0.369043     -11.495910 -0.009912  0.008729   \n",
       "speed_y    466560.0  3.707487    3.279739     -10.870589  1.167691  2.397326   \n",
       "\n",
       "                75%            max  \n",
       "windspeed  5.565389      16.479275  \n",
       "angle      0.788890  105694.335938  \n",
       "speed_x    0.048839      10.451612  \n",
       "speed_y    5.525764      16.478964  "
      ]
     },
     "execution_count": 20,
     "metadata": {},
     "output_type": "execute_result"
    }
   ],
   "source": [
    "#df.describe().T"
   ]
  },
  {
   "cell_type": "code",
   "execution_count": 21,
   "id": "5e998bdc",
   "metadata": {},
   "outputs": [
    {
     "data": {
      "text/plain": [
       "0"
      ]
     },
     "execution_count": 21,
     "metadata": {},
     "output_type": "execute_result"
    }
   ],
   "source": [
    "#df.isnull().sum().sum()"
   ]
  },
  {
   "cell_type": "code",
   "execution_count": 22,
   "id": "28181fa7",
   "metadata": {},
   "outputs": [
    {
     "data": {
      "image/png": "[encoded data removed]",
      "text/plain": [
       "<Figure size 360x360 with 1 Axes>"
      ]
     },
     "metadata": {},
     "output_type": "display_data"
    }
   ],
   "source": [
    "#df.to_csv('/Users/gloriacarrascal/project_wind/wind_dataset.csv',index=False)\n",
    "#sns.displot(df[\"windspeed\"],kde = False, color = 'blue',bins=6)\n",
    "#plt.show()"
   ]
  },
  {
   "cell_type": "code",
   "execution_count": 23,
   "id": "f76da3db",
   "metadata": {},
   "outputs": [
    {
     "data": {
      "image/png": "[encoded data removed]",
      "text/plain": [
       "<Figure size 360x360 with 1 Axes>"
      ]
     },
     "metadata": {},
     "output_type": "display_data"
    }
   ],
   "source": [
    "#sns.displot(df[\"angle\"],kde = False, color = 'blue',bins=6)\n",
    "#plt.show()"
   ]
  },
  {
   "cell_type": "code",
   "execution_count": 24,
   "id": "94ebe49f",
   "metadata": {},
   "outputs": [
    {
     "data": {
      "image/png": "[encoded data removed]",
      "text/plain": [
       "<Figure size 360x360 with 1 Axes>"
      ]
     },
     "metadata": {},
     "output_type": "display_data"
    }
   ],
   "source": [
    "#sns.displot(df[\"speed_x\"],kde = False, color = 'blue',bins=6)\n",
    "#plt.show()"
   ]
  },
  {
   "cell_type": "code",
   "execution_count": 25,
   "id": "cafea777",
   "metadata": {},
   "outputs": [
    {
     "data": {
      "image/png": "[encoded data removed]",
      "text/plain": [
       "<Figure size 360x360 with 1 Axes>"
      ]
     },
     "metadata": {},
     "output_type": "display_data"
    }
   ],
   "source": [
    "#sns.displot(df[\"speed_y\"],kde = False, color = 'blue',bins=6)\n",
    "#plt.show()"
   ]
  },
  {
   "cell_type": "code",
   "execution_count": 26,
   "id": "ffd5f1b0",
   "metadata": {},
   "outputs": [
    {
     "data": {
      "text/html": [
       "<div>\n",
       "<style scoped>\n",
       "    .dataframe tbody tr th:only-of-type {\n",
       "        vertical-align: middle;\n",
       "    }\n",
       "\n",
       "    .dataframe tbody tr th {\n",
       "        vertical-align: top;\n",
       "    }\n",
       "\n",
       "    .dataframe thead th {\n",
       "        text-align: right;\n",
       "    }\n",
       "</style>\n",
       "<table border=\"1\" class=\"dataframe\">\n",
       "  <thead>\n",
       "    <tr style=\"text-align: right;\">\n",
       "      <th></th>\n",
       "      <th>windspeed</th>\n",
       "      <th>angle</th>\n",
       "      <th>speed_x</th>\n",
       "      <th>speed_y</th>\n",
       "    </tr>\n",
       "  </thead>\n",
       "  <tbody>\n",
       "    <tr>\n",
       "      <th>windspeed</th>\n",
       "      <td>1.000000</td>\n",
       "      <td>-0.000926</td>\n",
       "      <td>0.067017</td>\n",
       "      <td>0.993828</td>\n",
       "    </tr>\n",
       "    <tr>\n",
       "      <th>angle</th>\n",
       "      <td>-0.000926</td>\n",
       "      <td>1.000000</td>\n",
       "      <td>0.028431</td>\n",
       "      <td>0.000606</td>\n",
       "    </tr>\n",
       "    <tr>\n",
       "      <th>speed_x</th>\n",
       "      <td>0.067017</td>\n",
       "      <td>0.028431</td>\n",
       "      <td>1.000000</td>\n",
       "      <td>0.065450</td>\n",
       "    </tr>\n",
       "    <tr>\n",
       "      <th>speed_y</th>\n",
       "      <td>0.993828</td>\n",
       "      <td>0.000606</td>\n",
       "      <td>0.065450</td>\n",
       "      <td>1.000000</td>\n",
       "    </tr>\n",
       "  </tbody>\n",
       "</table>\n",
       "</div>"
      ],
      "text/plain": [
       "           windspeed     angle   speed_x   speed_y\n",
       "windspeed   1.000000 -0.000926  0.067017  0.993828\n",
       "angle      -0.000926  1.000000  0.028431  0.000606\n",
       "speed_x     0.067017  0.028431  1.000000  0.065450\n",
       "speed_y     0.993828  0.000606  0.065450  1.000000"
      ]
     },
     "execution_count": 26,
     "metadata": {},
     "output_type": "execute_result"
    }
   ],
   "source": [
    "# compute correlation\n",
    "#corr_matrix = df.corr()\n",
    "\n",
    "#corr_matrix"
   ]
  },
  {
   "cell_type": "code",
   "execution_count": 27,
   "id": "1bea8028",
   "metadata": {},
   "outputs": [
    {
     "data": {
      "image/png": "[encoded data removed]",
      "text/plain": [
       "<Figure size 432x288 with 2 Axes>"
      ]
     },
     "metadata": {},
     "output_type": "display_data"
    }
   ],
   "source": [
    "# plot heatmap\n",
    "# 'annot=True' returns the correlation values \n",
    "#sns.heatmap(corr_matrix, annot = True)\n",
    "\n",
    "# display the plot\n",
    "#plt.show()"
   ]
  },
  {
   "cell_type": "code",
   "execution_count": 72,
   "id": "cce67e37",
   "metadata": {},
   "outputs": [
    {
     "data": {
      "text/html": [
       "<div>\n",
       "<style scoped>\n",
       "    .dataframe tbody tr th:only-of-type {\n",
       "        vertical-align: middle;\n",
       "    }\n",
       "\n",
       "    .dataframe tbody tr th {\n",
       "        vertical-align: top;\n",
       "    }\n",
       "\n",
       "    .dataframe thead th {\n",
       "        text-align: right;\n",
       "    }\n",
       "</style>\n",
       "<table border=\"1\" class=\"dataframe\">\n",
       "  <thead>\n",
       "    <tr style=\"text-align: right;\">\n",
       "      <th></th>\n",
       "      <th>valid_time</th>\n",
       "      <th>windspeed</th>\n",
       "      <th>angle</th>\n",
       "      <th>speed_x</th>\n",
       "      <th>speed_y</th>\n",
       "    </tr>\n",
       "  </thead>\n",
       "  <tbody>\n",
       "    <tr>\n",
       "      <th>0</th>\n",
       "      <td>2021-01-01 00:00:00</td>\n",
       "      <td>2.401274</td>\n",
       "      <td>3.040445</td>\n",
       "      <td>0.127366</td>\n",
       "      <td>2.397894</td>\n",
       "    </tr>\n",
       "    <tr>\n",
       "      <th>1</th>\n",
       "      <td>2021-01-01 00:00:00</td>\n",
       "      <td>4.240481</td>\n",
       "      <td>1.906835</td>\n",
       "      <td>0.141099</td>\n",
       "      <td>4.238133</td>\n",
       "    </tr>\n",
       "    <tr>\n",
       "      <th>2</th>\n",
       "      <td>2021-01-01 00:00:00</td>\n",
       "      <td>6.727308</td>\n",
       "      <td>0.450945</td>\n",
       "      <td>0.052947</td>\n",
       "      <td>6.727099</td>\n",
       "    </tr>\n",
       "    <tr>\n",
       "      <th>3</th>\n",
       "      <td>2021-01-01 00:00:00</td>\n",
       "      <td>8.902244</td>\n",
       "      <td>-0.433688</td>\n",
       "      <td>-0.067383</td>\n",
       "      <td>8.901988</td>\n",
       "    </tr>\n",
       "    <tr>\n",
       "      <th>4</th>\n",
       "      <td>2021-01-01 00:00:00</td>\n",
       "      <td>9.612068</td>\n",
       "      <td>2.377939</td>\n",
       "      <td>0.398814</td>\n",
       "      <td>9.603791</td>\n",
       "    </tr>\n",
       "  </tbody>\n",
       "</table>\n",
       "</div>"
      ],
      "text/plain": [
       "            valid_time  windspeed     angle   speed_x   speed_y\n",
       "0  2021-01-01 00:00:00   2.401274  3.040445  0.127366  2.397894\n",
       "1  2021-01-01 00:00:00   4.240481  1.906835  0.141099  4.238133\n",
       "2  2021-01-01 00:00:00   6.727308  0.450945  0.052947  6.727099\n",
       "3  2021-01-01 00:00:00   8.902244 -0.433688 -0.067383  8.901988\n",
       "4  2021-01-01 00:00:00   9.612068  2.377939  0.398814  9.603791"
      ]
     },
     "execution_count": 72,
     "metadata": {},
     "output_type": "execute_result"
    }
   ],
   "source": [
    "data = pd.read_csv('wind_dataset.csv')\n",
    "data.head()"
   ]
  },
  {
   "cell_type": "code",
   "execution_count": 73,
   "id": "adf817f3",
   "metadata": {},
   "outputs": [],
   "source": [
    "#convert valid time in datetime\n",
    "data['Datetime']=pd.to_datetime(data['valid_time'], format='%Y-%m-%d %H:%M:%S')"
   ]
  },
  {
   "cell_type": "code",
   "execution_count": 74,
   "id": "dfb6c69a",
   "metadata": {},
   "outputs": [
    {
     "data": {
      "text/html": [
       "<div>\n",
       "<style scoped>\n",
       "    .dataframe tbody tr th:only-of-type {\n",
       "        vertical-align: middle;\n",
       "    }\n",
       "\n",
       "    .dataframe tbody tr th {\n",
       "        vertical-align: top;\n",
       "    }\n",
       "\n",
       "    .dataframe thead th {\n",
       "        text-align: right;\n",
       "    }\n",
       "</style>\n",
       "<table border=\"1\" class=\"dataframe\">\n",
       "  <thead>\n",
       "    <tr style=\"text-align: right;\">\n",
       "      <th></th>\n",
       "      <th>valid_time</th>\n",
       "      <th>windspeed</th>\n",
       "      <th>angle</th>\n",
       "      <th>speed_x</th>\n",
       "      <th>speed_y</th>\n",
       "      <th>Datetime</th>\n",
       "    </tr>\n",
       "  </thead>\n",
       "  <tbody>\n",
       "    <tr>\n",
       "      <th>466555</th>\n",
       "      <td>2021-03-31 21:00:00</td>\n",
       "      <td>1.399036</td>\n",
       "      <td>1.944340</td>\n",
       "      <td>0.047467</td>\n",
       "      <td>1.398230</td>\n",
       "      <td>2021-03-31 21:00:00</td>\n",
       "    </tr>\n",
       "    <tr>\n",
       "      <th>466556</th>\n",
       "      <td>2021-03-31 21:00:00</td>\n",
       "      <td>1.455315</td>\n",
       "      <td>7.326739</td>\n",
       "      <td>0.185593</td>\n",
       "      <td>1.443433</td>\n",
       "      <td>2021-03-31 21:00:00</td>\n",
       "    </tr>\n",
       "    <tr>\n",
       "      <th>466557</th>\n",
       "      <td>2021-03-31 21:00:00</td>\n",
       "      <td>0.978639</td>\n",
       "      <td>1.827570</td>\n",
       "      <td>0.031210</td>\n",
       "      <td>0.978141</td>\n",
       "      <td>2021-03-31 21:00:00</td>\n",
       "    </tr>\n",
       "    <tr>\n",
       "      <th>466558</th>\n",
       "      <td>2021-03-31 21:00:00</td>\n",
       "      <td>0.092906</td>\n",
       "      <td>2.907411</td>\n",
       "      <td>0.004712</td>\n",
       "      <td>0.092786</td>\n",
       "      <td>2021-03-31 21:00:00</td>\n",
       "    </tr>\n",
       "    <tr>\n",
       "      <th>466559</th>\n",
       "      <td>2021-03-31 21:00:00</td>\n",
       "      <td>0.848073</td>\n",
       "      <td>0.761820</td>\n",
       "      <td>0.011276</td>\n",
       "      <td>0.847998</td>\n",
       "      <td>2021-03-31 21:00:00</td>\n",
       "    </tr>\n",
       "  </tbody>\n",
       "</table>\n",
       "</div>"
      ],
      "text/plain": [
       "                 valid_time  windspeed     angle   speed_x   speed_y  \\\n",
       "466555  2021-03-31 21:00:00   1.399036  1.944340  0.047467  1.398230   \n",
       "466556  2021-03-31 21:00:00   1.455315  7.326739  0.185593  1.443433   \n",
       "466557  2021-03-31 21:00:00   0.978639  1.827570  0.031210  0.978141   \n",
       "466558  2021-03-31 21:00:00   0.092906  2.907411  0.004712  0.092786   \n",
       "466559  2021-03-31 21:00:00   0.848073  0.761820  0.011276  0.847998   \n",
       "\n",
       "                  Datetime  \n",
       "466555 2021-03-31 21:00:00  \n",
       "466556 2021-03-31 21:00:00  \n",
       "466557 2021-03-31 21:00:00  \n",
       "466558 2021-03-31 21:00:00  \n",
       "466559 2021-03-31 21:00:00  "
      ]
     },
     "execution_count": 74,
     "metadata": {},
     "output_type": "execute_result"
    }
   ],
   "source": [
    "data.tail()"
   ]
  },
  {
   "cell_type": "code",
   "execution_count": 75,
   "id": "e35437e8",
   "metadata": {},
   "outputs": [],
   "source": [
    "#resample by mean by day\n",
    "data['date']= data[\"Datetime\"].apply(lambda x: x.date())"
   ]
  },
  {
   "cell_type": "code",
   "execution_count": 76,
   "id": "a485fc32",
   "metadata": {},
   "outputs": [],
   "source": [
    "#resample by hour\n",
    "data['hour']= data[\"Datetime\"].apply(lambda x: x.hour)"
   ]
  },
  {
   "cell_type": "code",
   "execution_count": 77,
   "id": "694c860c",
   "metadata": {},
   "outputs": [],
   "source": [
    "_dfDay=data\n",
    "_dfDay= _dfDay.drop(['valid_time'], axis=1)"
   ]
  },
  {
   "cell_type": "code",
   "execution_count": 78,
   "id": "416e5239",
   "metadata": {},
   "outputs": [
    {
     "data": {
      "text/html": [
       "<div>\n",
       "<style scoped>\n",
       "    .dataframe tbody tr th:only-of-type {\n",
       "        vertical-align: middle;\n",
       "    }\n",
       "\n",
       "    .dataframe tbody tr th {\n",
       "        vertical-align: top;\n",
       "    }\n",
       "\n",
       "    .dataframe thead th {\n",
       "        text-align: right;\n",
       "    }\n",
       "</style>\n",
       "<table border=\"1\" class=\"dataframe\">\n",
       "  <thead>\n",
       "    <tr style=\"text-align: right;\">\n",
       "      <th></th>\n",
       "      <th>windspeed</th>\n",
       "      <th>angle</th>\n",
       "      <th>speed_x</th>\n",
       "      <th>speed_y</th>\n",
       "      <th>Datetime</th>\n",
       "      <th>date</th>\n",
       "      <th>hour</th>\n",
       "    </tr>\n",
       "  </thead>\n",
       "  <tbody>\n",
       "    <tr>\n",
       "      <th>0</th>\n",
       "      <td>2.401274</td>\n",
       "      <td>3.040445</td>\n",
       "      <td>0.127366</td>\n",
       "      <td>2.397894</td>\n",
       "      <td>2021-01-01</td>\n",
       "      <td>2021-01-01</td>\n",
       "      <td>0</td>\n",
       "    </tr>\n",
       "    <tr>\n",
       "      <th>1</th>\n",
       "      <td>4.240481</td>\n",
       "      <td>1.906835</td>\n",
       "      <td>0.141099</td>\n",
       "      <td>4.238133</td>\n",
       "      <td>2021-01-01</td>\n",
       "      <td>2021-01-01</td>\n",
       "      <td>0</td>\n",
       "    </tr>\n",
       "    <tr>\n",
       "      <th>2</th>\n",
       "      <td>6.727308</td>\n",
       "      <td>0.450945</td>\n",
       "      <td>0.052947</td>\n",
       "      <td>6.727099</td>\n",
       "      <td>2021-01-01</td>\n",
       "      <td>2021-01-01</td>\n",
       "      <td>0</td>\n",
       "    </tr>\n",
       "    <tr>\n",
       "      <th>3</th>\n",
       "      <td>8.902244</td>\n",
       "      <td>-0.433688</td>\n",
       "      <td>-0.067383</td>\n",
       "      <td>8.901988</td>\n",
       "      <td>2021-01-01</td>\n",
       "      <td>2021-01-01</td>\n",
       "      <td>0</td>\n",
       "    </tr>\n",
       "    <tr>\n",
       "      <th>4</th>\n",
       "      <td>9.612068</td>\n",
       "      <td>2.377939</td>\n",
       "      <td>0.398814</td>\n",
       "      <td>9.603791</td>\n",
       "      <td>2021-01-01</td>\n",
       "      <td>2021-01-01</td>\n",
       "      <td>0</td>\n",
       "    </tr>\n",
       "  </tbody>\n",
       "</table>\n",
       "</div>"
      ],
      "text/plain": [
       "   windspeed     angle   speed_x   speed_y   Datetime        date  hour\n",
       "0   2.401274  3.040445  0.127366  2.397894 2021-01-01  2021-01-01     0\n",
       "1   4.240481  1.906835  0.141099  4.238133 2021-01-01  2021-01-01     0\n",
       "2   6.727308  0.450945  0.052947  6.727099 2021-01-01  2021-01-01     0\n",
       "3   8.902244 -0.433688 -0.067383  8.901988 2021-01-01  2021-01-01     0\n",
       "4   9.612068  2.377939  0.398814  9.603791 2021-01-01  2021-01-01     0"
      ]
     },
     "execution_count": 78,
     "metadata": {},
     "output_type": "execute_result"
    }
   ],
   "source": [
    "_dfDay.head()"
   ]
  },
  {
   "cell_type": "code",
   "execution_count": 79,
   "id": "4e5e624b",
   "metadata": {},
   "outputs": [],
   "source": [
    "#resample, get mean by day\n",
    "_dfDay= _dfDay.set_index('date')"
   ]
  },
  {
   "cell_type": "code",
   "execution_count": 80,
   "id": "cc51278c",
   "metadata": {},
   "outputs": [],
   "source": [
    "#be sure that is a format datetime before resmaple\n",
    "_dfDay.index = pd.to_datetime(_dfDay.index)"
   ]
  },
  {
   "cell_type": "code",
   "execution_count": 81,
   "id": "95e11ce2",
   "metadata": {},
   "outputs": [],
   "source": [
    "#make the resample\n",
    "_dfDay=_dfDay.resample(rule='D').mean()"
   ]
  },
  {
   "cell_type": "code",
   "execution_count": 82,
   "id": "3641cc2b",
   "metadata": {},
   "outputs": [
    {
     "data": {
      "text/html": [
       "<div>\n",
       "<style scoped>\n",
       "    .dataframe tbody tr th:only-of-type {\n",
       "        vertical-align: middle;\n",
       "    }\n",
       "\n",
       "    .dataframe tbody tr th {\n",
       "        vertical-align: top;\n",
       "    }\n",
       "\n",
       "    .dataframe thead th {\n",
       "        text-align: right;\n",
       "    }\n",
       "</style>\n",
       "<table border=\"1\" class=\"dataframe\">\n",
       "  <thead>\n",
       "    <tr style=\"text-align: right;\">\n",
       "      <th></th>\n",
       "      <th>windspeed</th>\n",
       "      <th>angle</th>\n",
       "      <th>speed_x</th>\n",
       "      <th>speed_y</th>\n",
       "      <th>hour</th>\n",
       "    </tr>\n",
       "    <tr>\n",
       "      <th>date</th>\n",
       "      <th></th>\n",
       "      <th></th>\n",
       "      <th></th>\n",
       "      <th></th>\n",
       "      <th></th>\n",
       "    </tr>\n",
       "  </thead>\n",
       "  <tbody>\n",
       "    <tr>\n",
       "      <th>2021-01-01</th>\n",
       "      <td>4.079895</td>\n",
       "      <td>-6.570117</td>\n",
       "      <td>0.010094</td>\n",
       "      <td>4.023129</td>\n",
       "      <td>10.5</td>\n",
       "    </tr>\n",
       "    <tr>\n",
       "      <th>2021-01-02</th>\n",
       "      <td>4.505474</td>\n",
       "      <td>-0.080200</td>\n",
       "      <td>0.007823</td>\n",
       "      <td>4.426185</td>\n",
       "      <td>10.5</td>\n",
       "    </tr>\n",
       "    <tr>\n",
       "      <th>2021-01-03</th>\n",
       "      <td>4.471615</td>\n",
       "      <td>1.895521</td>\n",
       "      <td>-0.003821</td>\n",
       "      <td>4.409224</td>\n",
       "      <td>10.5</td>\n",
       "    </tr>\n",
       "    <tr>\n",
       "      <th>2021-01-04</th>\n",
       "      <td>3.929402</td>\n",
       "      <td>0.825081</td>\n",
       "      <td>-0.000323</td>\n",
       "      <td>3.853691</td>\n",
       "      <td>10.5</td>\n",
       "    </tr>\n",
       "    <tr>\n",
       "      <th>2021-01-05</th>\n",
       "      <td>3.611120</td>\n",
       "      <td>0.271731</td>\n",
       "      <td>0.012539</td>\n",
       "      <td>3.544011</td>\n",
       "      <td>10.5</td>\n",
       "    </tr>\n",
       "  </tbody>\n",
       "</table>\n",
       "</div>"
      ],
      "text/plain": [
       "            windspeed     angle   speed_x   speed_y  hour\n",
       "date                                                     \n",
       "2021-01-01   4.079895 -6.570117  0.010094  4.023129  10.5\n",
       "2021-01-02   4.505474 -0.080200  0.007823  4.426185  10.5\n",
       "2021-01-03   4.471615  1.895521 -0.003821  4.409224  10.5\n",
       "2021-01-04   3.929402  0.825081 -0.000323  3.853691  10.5\n",
       "2021-01-05   3.611120  0.271731  0.012539  3.544011  10.5"
      ]
     },
     "execution_count": 82,
     "metadata": {},
     "output_type": "execute_result"
    }
   ],
   "source": [
    "_dfDay.head()"
   ]
  },
  {
   "cell_type": "code",
   "execution_count": 83,
   "id": "f1b84cfe",
   "metadata": {},
   "outputs": [
    {
     "data": {
      "text/plain": [
       "(90, 5)"
      ]
     },
     "execution_count": 83,
     "metadata": {},
     "output_type": "execute_result"
    }
   ],
   "source": [
    "_dfDay.shape"
   ]
  },
  {
   "cell_type": "code",
   "execution_count": 84,
   "id": "9091157c",
   "metadata": {},
   "outputs": [],
   "source": [
    "_=_dfDay.loc['2021-01-10':'2021-01-17']"
   ]
  },
  {
   "cell_type": "code",
   "execution_count": 85,
   "id": "8af2a2e9",
   "metadata": {},
   "outputs": [
    {
     "data": {
      "text/plain": [
       "(8, 5)"
      ]
     },
     "execution_count": 85,
     "metadata": {},
     "output_type": "execute_result"
    }
   ],
   "source": [
    "_.shape"
   ]
  },
  {
   "cell_type": "code",
   "execution_count": 86,
   "id": "6eef2b85",
   "metadata": {},
   "outputs": [
    {
     "data": {
      "text/plain": [
       "<matplotlib.legend.Legend at 0x7ff3420938e0>"
      ]
     },
     "execution_count": 86,
     "metadata": {},
     "output_type": "execute_result"
    },
    {
     "data": {
      "image/png": "[encoded data removed]",
      "text/plain": [
       "<Figure size 640x640 with 1 Axes>"
      ]
     },
     "metadata": {},
     "output_type": "display_data"
    }
   ],
   "source": [
    "#slice in a interval time to check the grahp\n",
    "\n",
    "#making the wind rose(the mean for all interval time)\n",
    "ax= WindroseAxes.from_ax()\n",
    "ax.bar(_.angle, _.windspeed, normed=True, opening=0.8, edgecolor='white')\n",
    "ax.set_legend()\n"
   ]
  },
  {
   "cell_type": "markdown",
   "id": "b633b8da",
   "metadata": {},
   "source": [
    "### working with time by hour... \n",
    "- plot rose by hour\n",
    "- plot time serie, mean by hour during the interval time"
   ]
  },
  {
   "cell_type": "code",
   "execution_count": 23,
   "id": "d1d1d9b2",
   "metadata": {},
   "outputs": [
    {
     "data": {
      "text/html": [
       "<div>\n",
       "<style scoped>\n",
       "    .dataframe tbody tr th:only-of-type {\n",
       "        vertical-align: middle;\n",
       "    }\n",
       "\n",
       "    .dataframe tbody tr th {\n",
       "        vertical-align: top;\n",
       "    }\n",
       "\n",
       "    .dataframe thead th {\n",
       "        text-align: right;\n",
       "    }\n",
       "</style>\n",
       "<table border=\"1\" class=\"dataframe\">\n",
       "  <thead>\n",
       "    <tr style=\"text-align: right;\">\n",
       "      <th></th>\n",
       "      <th>valid_time</th>\n",
       "      <th>windspeed</th>\n",
       "      <th>angle</th>\n",
       "      <th>speed_x</th>\n",
       "      <th>speed_y</th>\n",
       "      <th>Datetime</th>\n",
       "      <th>date</th>\n",
       "      <th>hour</th>\n",
       "    </tr>\n",
       "  </thead>\n",
       "  <tbody>\n",
       "    <tr>\n",
       "      <th>0</th>\n",
       "      <td>2021-01-01 00:00:00</td>\n",
       "      <td>2.401274</td>\n",
       "      <td>3.040445</td>\n",
       "      <td>0.127366</td>\n",
       "      <td>2.397894</td>\n",
       "      <td>2021-01-01</td>\n",
       "      <td>2021-01-01</td>\n",
       "      <td>0</td>\n",
       "    </tr>\n",
       "    <tr>\n",
       "      <th>1</th>\n",
       "      <td>2021-01-01 00:00:00</td>\n",
       "      <td>4.240481</td>\n",
       "      <td>1.906835</td>\n",
       "      <td>0.141099</td>\n",
       "      <td>4.238133</td>\n",
       "      <td>2021-01-01</td>\n",
       "      <td>2021-01-01</td>\n",
       "      <td>0</td>\n",
       "    </tr>\n",
       "    <tr>\n",
       "      <th>2</th>\n",
       "      <td>2021-01-01 00:00:00</td>\n",
       "      <td>6.727308</td>\n",
       "      <td>0.450945</td>\n",
       "      <td>0.052947</td>\n",
       "      <td>6.727099</td>\n",
       "      <td>2021-01-01</td>\n",
       "      <td>2021-01-01</td>\n",
       "      <td>0</td>\n",
       "    </tr>\n",
       "    <tr>\n",
       "      <th>3</th>\n",
       "      <td>2021-01-01 00:00:00</td>\n",
       "      <td>8.902244</td>\n",
       "      <td>-0.433688</td>\n",
       "      <td>-0.067383</td>\n",
       "      <td>8.901988</td>\n",
       "      <td>2021-01-01</td>\n",
       "      <td>2021-01-01</td>\n",
       "      <td>0</td>\n",
       "    </tr>\n",
       "    <tr>\n",
       "      <th>4</th>\n",
       "      <td>2021-01-01 00:00:00</td>\n",
       "      <td>9.612068</td>\n",
       "      <td>2.377939</td>\n",
       "      <td>0.398814</td>\n",
       "      <td>9.603791</td>\n",
       "      <td>2021-01-01</td>\n",
       "      <td>2021-01-01</td>\n",
       "      <td>0</td>\n",
       "    </tr>\n",
       "  </tbody>\n",
       "</table>\n",
       "</div>"
      ],
      "text/plain": [
       "            valid_time  windspeed     angle   speed_x   speed_y   Datetime  \\\n",
       "0  2021-01-01 00:00:00   2.401274  3.040445  0.127366  2.397894 2021-01-01   \n",
       "1  2021-01-01 00:00:00   4.240481  1.906835  0.141099  4.238133 2021-01-01   \n",
       "2  2021-01-01 00:00:00   6.727308  0.450945  0.052947  6.727099 2021-01-01   \n",
       "3  2021-01-01 00:00:00   8.902244 -0.433688 -0.067383  8.901988 2021-01-01   \n",
       "4  2021-01-01 00:00:00   9.612068  2.377939  0.398814  9.603791 2021-01-01   \n",
       "\n",
       "         date  hour  \n",
       "0  2021-01-01     0  \n",
       "1  2021-01-01     0  \n",
       "2  2021-01-01     0  \n",
       "3  2021-01-01     0  \n",
       "4  2021-01-01     0  "
      ]
     },
     "execution_count": 23,
     "metadata": {},
     "output_type": "execute_result"
    }
   ],
   "source": [
    "#new data\n",
    "_dfHour= data\n",
    "_dfHour.head()"
   ]
  },
  {
   "cell_type": "code",
   "execution_count": 24,
   "id": "b0d9296d",
   "metadata": {},
   "outputs": [],
   "source": [
    "_dfHour= _dfHour.set_index('Datetime')\n",
    "#be sure that is a format datetime before resmaple\n",
    "_dfHour.index = pd.to_datetime(_dfHour.index)"
   ]
  },
  {
   "cell_type": "code",
   "execution_count": 25,
   "id": "85ba86f7",
   "metadata": {},
   "outputs": [],
   "source": [
    "#resampling by mean by hour\n",
    "_dfHour = _dfHour.resample('H').mean()"
   ]
  },
  {
   "cell_type": "code",
   "execution_count": 26,
   "id": "f10c6610",
   "metadata": {},
   "outputs": [
    {
     "data": {
      "text/html": [
       "<div>\n",
       "<style scoped>\n",
       "    .dataframe tbody tr th:only-of-type {\n",
       "        vertical-align: middle;\n",
       "    }\n",
       "\n",
       "    .dataframe tbody tr th {\n",
       "        vertical-align: top;\n",
       "    }\n",
       "\n",
       "    .dataframe thead th {\n",
       "        text-align: right;\n",
       "    }\n",
       "</style>\n",
       "<table border=\"1\" class=\"dataframe\">\n",
       "  <thead>\n",
       "    <tr style=\"text-align: right;\">\n",
       "      <th></th>\n",
       "      <th>windspeed</th>\n",
       "      <th>angle</th>\n",
       "      <th>speed_x</th>\n",
       "      <th>speed_y</th>\n",
       "      <th>hour</th>\n",
       "    </tr>\n",
       "    <tr>\n",
       "      <th>Datetime</th>\n",
       "      <th></th>\n",
       "      <th></th>\n",
       "      <th></th>\n",
       "      <th></th>\n",
       "      <th></th>\n",
       "    </tr>\n",
       "  </thead>\n",
       "  <tbody>\n",
       "    <tr>\n",
       "      <th>2021-01-01 00:00:00</th>\n",
       "      <td>3.866304</td>\n",
       "      <td>-0.210007</td>\n",
       "      <td>-0.004035</td>\n",
       "      <td>3.842388</td>\n",
       "      <td>0.0</td>\n",
       "    </tr>\n",
       "    <tr>\n",
       "      <th>2021-01-01 01:00:00</th>\n",
       "      <td>NaN</td>\n",
       "      <td>NaN</td>\n",
       "      <td>NaN</td>\n",
       "      <td>NaN</td>\n",
       "      <td>NaN</td>\n",
       "    </tr>\n",
       "    <tr>\n",
       "      <th>2021-01-01 02:00:00</th>\n",
       "      <td>NaN</td>\n",
       "      <td>NaN</td>\n",
       "      <td>NaN</td>\n",
       "      <td>NaN</td>\n",
       "      <td>NaN</td>\n",
       "    </tr>\n",
       "    <tr>\n",
       "      <th>2021-01-01 03:00:00</th>\n",
       "      <td>3.975585</td>\n",
       "      <td>-0.038807</td>\n",
       "      <td>0.018470</td>\n",
       "      <td>3.893891</td>\n",
       "      <td>3.0</td>\n",
       "    </tr>\n",
       "    <tr>\n",
       "      <th>2021-01-01 04:00:00</th>\n",
       "      <td>NaN</td>\n",
       "      <td>NaN</td>\n",
       "      <td>NaN</td>\n",
       "      <td>NaN</td>\n",
       "      <td>NaN</td>\n",
       "    </tr>\n",
       "  </tbody>\n",
       "</table>\n",
       "</div>"
      ],
      "text/plain": [
       "                     windspeed     angle   speed_x   speed_y  hour\n",
       "Datetime                                                          \n",
       "2021-01-01 00:00:00   3.866304 -0.210007 -0.004035  3.842388   0.0\n",
       "2021-01-01 01:00:00        NaN       NaN       NaN       NaN   NaN\n",
       "2021-01-01 02:00:00        NaN       NaN       NaN       NaN   NaN\n",
       "2021-01-01 03:00:00   3.975585 -0.038807  0.018470  3.893891   3.0\n",
       "2021-01-01 04:00:00        NaN       NaN       NaN       NaN   NaN"
      ]
     },
     "execution_count": 26,
     "metadata": {},
     "output_type": "execute_result"
    }
   ],
   "source": [
    "_dfHour.head()"
   ]
  },
  {
   "cell_type": "code",
   "execution_count": 30,
   "id": "5fd81935",
   "metadata": {},
   "outputs": [
    {
     "data": {
      "text/html": [
       "<div>\n",
       "<style scoped>\n",
       "    .dataframe tbody tr th:only-of-type {\n",
       "        vertical-align: middle;\n",
       "    }\n",
       "\n",
       "    .dataframe tbody tr th {\n",
       "        vertical-align: top;\n",
       "    }\n",
       "\n",
       "    .dataframe thead th {\n",
       "        text-align: right;\n",
       "    }\n",
       "</style>\n",
       "<table border=\"1\" class=\"dataframe\">\n",
       "  <thead>\n",
       "    <tr style=\"text-align: right;\">\n",
       "      <th></th>\n",
       "      <th>windspeed</th>\n",
       "      <th>angle</th>\n",
       "      <th>speed_x</th>\n",
       "      <th>speed_y</th>\n",
       "      <th>hour</th>\n",
       "    </tr>\n",
       "    <tr>\n",
       "      <th>Datetime</th>\n",
       "      <th></th>\n",
       "      <th></th>\n",
       "      <th></th>\n",
       "      <th></th>\n",
       "      <th></th>\n",
       "    </tr>\n",
       "  </thead>\n",
       "  <tbody>\n",
       "    <tr>\n",
       "      <th>2021-01-01 00:00:00</th>\n",
       "      <td>3.866304</td>\n",
       "      <td>-0.210007</td>\n",
       "      <td>-0.004035</td>\n",
       "      <td>3.842388</td>\n",
       "      <td>0.0</td>\n",
       "    </tr>\n",
       "    <tr>\n",
       "      <th>2021-01-01 03:00:00</th>\n",
       "      <td>3.975585</td>\n",
       "      <td>-0.038807</td>\n",
       "      <td>0.018470</td>\n",
       "      <td>3.893891</td>\n",
       "      <td>3.0</td>\n",
       "    </tr>\n",
       "    <tr>\n",
       "      <th>2021-01-01 06:00:00</th>\n",
       "      <td>3.898204</td>\n",
       "      <td>-0.487578</td>\n",
       "      <td>0.009132</td>\n",
       "      <td>3.829311</td>\n",
       "      <td>6.0</td>\n",
       "    </tr>\n",
       "    <tr>\n",
       "      <th>2021-01-01 09:00:00</th>\n",
       "      <td>3.927821</td>\n",
       "      <td>-49.559141</td>\n",
       "      <td>0.050550</td>\n",
       "      <td>3.866349</td>\n",
       "      <td>9.0</td>\n",
       "    </tr>\n",
       "    <tr>\n",
       "      <th>2021-01-01 12:00:00</th>\n",
       "      <td>3.850754</td>\n",
       "      <td>1.766930</td>\n",
       "      <td>0.031123</td>\n",
       "      <td>3.793969</td>\n",
       "      <td>12.0</td>\n",
       "    </tr>\n",
       "    <tr>\n",
       "      <th>...</th>\n",
       "      <td>...</td>\n",
       "      <td>...</td>\n",
       "      <td>...</td>\n",
       "      <td>...</td>\n",
       "      <td>...</td>\n",
       "    </tr>\n",
       "    <tr>\n",
       "      <th>2021-03-31 09:00:00</th>\n",
       "      <td>3.852355</td>\n",
       "      <td>2.028094</td>\n",
       "      <td>-0.001457</td>\n",
       "      <td>3.801396</td>\n",
       "      <td>9.0</td>\n",
       "    </tr>\n",
       "    <tr>\n",
       "      <th>2021-03-31 12:00:00</th>\n",
       "      <td>3.906055</td>\n",
       "      <td>1.932683</td>\n",
       "      <td>-0.043355</td>\n",
       "      <td>3.827042</td>\n",
       "      <td>12.0</td>\n",
       "    </tr>\n",
       "    <tr>\n",
       "      <th>2021-03-31 15:00:00</th>\n",
       "      <td>4.124739</td>\n",
       "      <td>-0.840381</td>\n",
       "      <td>-0.017616</td>\n",
       "      <td>4.015730</td>\n",
       "      <td>15.0</td>\n",
       "    </tr>\n",
       "    <tr>\n",
       "      <th>2021-03-31 18:00:00</th>\n",
       "      <td>4.205037</td>\n",
       "      <td>-0.348492</td>\n",
       "      <td>-0.050794</td>\n",
       "      <td>4.149157</td>\n",
       "      <td>18.0</td>\n",
       "    </tr>\n",
       "    <tr>\n",
       "      <th>2021-03-31 21:00:00</th>\n",
       "      <td>4.399847</td>\n",
       "      <td>-1.522845</td>\n",
       "      <td>-0.010936</td>\n",
       "      <td>4.350741</td>\n",
       "      <td>21.0</td>\n",
       "    </tr>\n",
       "  </tbody>\n",
       "</table>\n",
       "<p>720 rows × 5 columns</p>\n",
       "</div>"
      ],
      "text/plain": [
       "                     windspeed      angle   speed_x   speed_y  hour\n",
       "Datetime                                                           \n",
       "2021-01-01 00:00:00   3.866304  -0.210007 -0.004035  3.842388   0.0\n",
       "2021-01-01 03:00:00   3.975585  -0.038807  0.018470  3.893891   3.0\n",
       "2021-01-01 06:00:00   3.898204  -0.487578  0.009132  3.829311   6.0\n",
       "2021-01-01 09:00:00   3.927821 -49.559141  0.050550  3.866349   9.0\n",
       "2021-01-01 12:00:00   3.850754   1.766930  0.031123  3.793969  12.0\n",
       "...                        ...        ...       ...       ...   ...\n",
       "2021-03-31 09:00:00   3.852355   2.028094 -0.001457  3.801396   9.0\n",
       "2021-03-31 12:00:00   3.906055   1.932683 -0.043355  3.827042  12.0\n",
       "2021-03-31 15:00:00   4.124739  -0.840381 -0.017616  4.015730  15.0\n",
       "2021-03-31 18:00:00   4.205037  -0.348492 -0.050794  4.149157  18.0\n",
       "2021-03-31 21:00:00   4.399847  -1.522845 -0.010936  4.350741  21.0\n",
       "\n",
       "[720 rows x 5 columns]"
      ]
     },
     "execution_count": 30,
     "metadata": {},
     "output_type": "execute_result"
    }
   ],
   "source": [
    "#plotting time serie\n",
    "_plot = _dfHour[_dfHour['windspeed'].isnull()==False]\n",
    "_plot"
   ]
  },
  {
   "cell_type": "code",
   "execution_count": 33,
   "id": "449dffad",
   "metadata": {},
   "outputs": [],
   "source": [
    "_plot = _plot.resample('W').mean()"
   ]
  },
  {
   "cell_type": "code",
   "execution_count": 58,
   "id": "0a518c04",
   "metadata": {},
   "outputs": [
    {
     "data": {
      "text/plain": [
       "Text(0, 0.5, 'Velocidad del viento ms-2')"
      ]
     },
     "execution_count": 58,
     "metadata": {},
     "output_type": "execute_result"
    },
    {
     "data": {
      "image/png": "[encoded data removed]",
      "text/plain": [
       "<Figure size 720x504 with 1 Axes>"
      ]
     },
     "metadata": {},
     "output_type": "display_data"
    }
   ],
   "source": [
    "#_df = _plot.loc['2021-01-01':'2021-01-03']\n",
    "plt.figure(figsize=(10,7))\n",
    "plt.plot(_plot.index, _plot['windspeed'])\n",
    "plt.title('Serie temporal, promedio por hora por semana')\n",
    "plt.xlabel('Fecha promediada por hora, por la semana')\n",
    "plt.ylabel('Velocidad del viento ms-2')\n"
   ]
  },
  {
   "cell_type": "code",
   "execution_count": 123,
   "id": "bcf292de",
   "metadata": {},
   "outputs": [
    {
     "data": {
      "text/plain": [
       "<matplotlib.legend.Legend at 0x7fc9c5f392e0>"
      ]
     },
     "execution_count": 123,
     "metadata": {},
     "output_type": "execute_result"
    },
    {
     "data": {
      "image/png": "[encoded data removed]",
      "text/plain": [
       "<Figure size 640x640 with 1 Axes>"
      ]
     },
     "metadata": {},
     "output_type": "display_data"
    }
   ],
   "source": [
    "#making the wind rose(the mean for all interval time)\n",
    "ax= WindroseAxes.from_ax()\n",
    "ax.bar(_df.angle, _df.windspeed, normed=True, opening=0.8, edgecolor='white')\n",
    "ax.set_legend()\n"
   ]
  },
  {
   "cell_type": "code",
   "execution_count": 121,
   "id": "62958cbf",
   "metadata": {},
   "outputs": [
    {
     "data": {
      "text/plain": [
       "<matplotlib.legend.Legend at 0x7fc9e6eaf820>"
      ]
     },
     "execution_count": 121,
     "metadata": {},
     "output_type": "execute_result"
    },
    {
     "data": {
      "image/png": "[encoded data removed]",
      "text/plain": [
       "<Figure size 640x640 with 1 Axes>"
      ]
     },
     "metadata": {},
     "output_type": "display_data"
    }
   ],
   "source": [
    "#making the wind rose(the mean for all interval time) filled mode\n",
    "ax= WindroseAxes.from_ax()\n",
    "ax.bar(df.angle, df.windspeed,\n",
    "       bins=np.arange(0,8,1), cmap=cm.hot)\n",
    "ax.set_legend()\n",
    "\n"
   ]
  },
  {
   "cell_type": "markdown",
   "id": "2aaf0bfb",
   "metadata": {},
   "source": [
    "### setting for a given time interval-(the visualization should be the mean for any time interval)\n",
    "- Setting the column valid time as timestamp\n",
    "- slice the pandas, \n",
    "- Reanrange in this columns\n",
    "- calculate the mean general\n",
    "- show the graph\n"
   ]
  },
  {
   "cell_type": "code",
   "execution_count": 118,
   "id": "90ebb4ea",
   "metadata": {},
   "outputs": [
    {
     "ename": "KeyError",
     "evalue": "'prueba'",
     "output_type": "error",
     "traceback": [
      "\u001b[0;31m---------------------------------------------------------------------------\u001b[0m",
      "\u001b[0;31mKeyError\u001b[0m                                  Traceback (most recent call last)",
      "Cell \u001b[0;32mIn[118], line 11\u001b[0m\n\u001b[1;32m      4\u001b[0m prueba \u001b[38;5;241m=\u001b[39m {\u001b[38;5;124m'\u001b[39m\u001b[38;5;124mmain\u001b[39m\u001b[38;5;124m'\u001b[39m:{\n\u001b[1;32m      5\u001b[0m                  \u001b[38;5;124m'\u001b[39m\u001b[38;5;124mprueba\u001b[39m\u001b[38;5;124m'\u001b[39m:[],\n\u001b[1;32m      6\u001b[0m                  \u001b[38;5;124m'\u001b[39m\u001b[38;5;124m2\u001b[39m\u001b[38;5;124m'\u001b[39m:\u001b[38;5;241m2\u001b[39m, \n\u001b[1;32m      7\u001b[0m                  \u001b[38;5;124m'\u001b[39m\u001b[38;5;124m3\u001b[39m\u001b[38;5;124m'\u001b[39m:\u001b[38;5;241m3\u001b[39m}\n\u001b[1;32m      8\u001b[0m             }\n\u001b[1;32m      9\u001b[0m \u001b[38;5;28;01mfor\u001b[39;00m i \u001b[38;5;129;01min\u001b[39;00m _\u001b[38;5;241m.\u001b[39mwindspeed\u001b[38;5;241m.\u001b[39mvalues:\n\u001b[1;32m     10\u001b[0m     \u001b[38;5;66;03m#print(i)\u001b[39;00m\n\u001b[0;32m---> 11\u001b[0m     \u001b[43mprueba\u001b[49m\u001b[43m[\u001b[49m\u001b[38;5;124;43m'\u001b[39;49m\u001b[38;5;124;43mprueba\u001b[39;49m\u001b[38;5;124;43m'\u001b[39;49m\u001b[43m]\u001b[49m\u001b[38;5;241m.\u001b[39mappend(i)\n\u001b[1;32m     12\u001b[0m table \u001b[38;5;241m=\u001b[39m json\u001b[38;5;241m.\u001b[39mdumps(prueba)\n",
      "\u001b[0;31mKeyError\u001b[0m: 'prueba'"
     ]
    }
   ],
   "source": [
    "#making a grahp\n",
    "#cml.plot_map(ds, title=True, path=\"test-grib-plot.svg\")\n",
    "import json\n",
    "prueba = {'main':{\n",
    "                 'prueba':[],\n",
    "                 '2':2, \n",
    "                 '3':3}\n",
    "            }\n",
    "for i in _.windspeed.values:\n",
    "    #print(i)\n",
    "    prueba['main']['prueba'].append(i)\n",
    "table = json.dumps(prueba)\n",
    "#prueba"
   ]
  },
  {
   "cell_type": "code",
   "execution_count": 117,
   "id": "391fa6c4",
   "metadata": {},
   "outputs": [
    {
     "data": {
      "text/plain": [
       "'{\"prueba\": [3.61952017689892, 4.08369954583044, 4.375968451373264, 4.123073833822531, 3.8510830078861877, 3.609476945294946, 3.4370030234992286, 3.547027274288966, 3.61952017689892, 4.08369954583044, 4.375968451373264, 4.123073833822531, 3.8510830078861877, 3.609476945294946, 3.4370030234992286, 3.547027274288966, 3.61952017689892, 4.08369954583044, 4.375968451373264, 4.123073833822531, 3.8510830078861877, 3.609476945294946, 3.4370030234992286, 3.547027274288966], \"2\": 2, \"3\": 3}'"
      ]
     },
     "execution_count": 117,
     "metadata": {},
     "output_type": "execute_result"
    }
   ],
   "source": [
    "table"
   ]
  },
  {
   "cell_type": "code",
   "execution_count": 90,
   "id": "0669343f",
   "metadata": {},
   "outputs": [],
   "source": [
    "#cml.plot_map(ds.t2m)"
   ]
  },
  {
   "cell_type": "code",
   "execution_count": 89,
   "id": "d7abbcc3",
   "metadata": {
    "scrolled": true
   },
   "outputs": [],
   "source": [
    "#cml.plot_map(ds.u10)"
   ]
  },
  {
   "cell_type": "code",
   "execution_count": 88,
   "id": "30ebb79d",
   "metadata": {},
   "outputs": [],
   "source": [
    "#cml.plot_map(ds.v10)"
   ]
  },
  {
   "cell_type": "code",
   "execution_count": 87,
   "id": "b71549fb",
   "metadata": {},
   "outputs": [],
   "source": [
    "#cml.plot_map(ds.lsm)"
   ]
  },
  {
   "cell_type": "code",
   "execution_count": null,
   "id": "9797163a",
   "metadata": {},
   "outputs": [],
   "source": []
  }
 ],
 "metadata": {
  "kernelspec": {
   "display_name": "Python 3 (ipykernel)",
   "language": "python",
   "name": "python3"
  },
  "language_info": {
   "codemirror_mode": {
    "name": "ipython",
    "version": 3
   },
   "file_extension": ".py",
   "mimetype": "text/x-python",
   "name": "python",
   "nbconvert_exporter": "python",
   "pygments_lexer": "ipython3",
   "version": "3.9.12"
  }
 },
 "nbformat": 4,
 "nbformat_minor": 5
}
