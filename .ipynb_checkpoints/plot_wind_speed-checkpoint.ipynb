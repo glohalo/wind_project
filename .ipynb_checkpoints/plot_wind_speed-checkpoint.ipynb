{
 "cells": [
  {
   "cell_type": "markdown",
   "metadata": {},
   "source": [
    "\n",
    "# Plotting Wind Direction Using Quiver\n",
    "\n",
    "This example demonstrates using quiver to plot wind speed contours and wind\n",
    "direction arrows from wind vector component input data. The vector components\n",
    "are co-located in space in this case.\n",
    "\n",
    "For the second plot, the data used for the arrows is normalised to produce\n",
    "arrows with a uniform size on the plot.\n"
   ]
  },
  {
   "cell_type": "code",
   "execution_count": 1,
   "metadata": {},
   "outputs": [
    {
     "ename": "ModuleNotFoundError",
     "evalue": "No module named 'cartopy'",
     "output_type": "error",
     "traceback": [
      "\u001b[0;31m---------------------------------------------------------------------------\u001b[0m",
      "\u001b[0;31mModuleNotFoundError\u001b[0m                       Traceback (most recent call last)",
      "Cell \u001b[0;32mIn[1], line 1\u001b[0m\n\u001b[0;32m----> 1\u001b[0m \u001b[38;5;28;01mimport\u001b[39;00m \u001b[38;5;21;01mcartopy\u001b[39;00m\u001b[38;5;21;01m.\u001b[39;00m\u001b[38;5;21;01mfeature\u001b[39;00m \u001b[38;5;28;01mas\u001b[39;00m \u001b[38;5;21;01mcfeat\u001b[39;00m\n\u001b[1;32m      2\u001b[0m \u001b[38;5;28;01mimport\u001b[39;00m \u001b[38;5;21;01mmatplotlib\u001b[39;00m\u001b[38;5;21;01m.\u001b[39;00m\u001b[38;5;21;01mpyplot\u001b[39;00m \u001b[38;5;28;01mas\u001b[39;00m \u001b[38;5;21;01mplt\u001b[39;00m\n\u001b[1;32m      4\u001b[0m \u001b[38;5;28;01mimport\u001b[39;00m \u001b[38;5;21;01miris\u001b[39;00m\n",
      "\u001b[0;31mModuleNotFoundError\u001b[0m: No module named 'cartopy'"
     ]
    }
   ],
   "source": [
    "import cartopy.feature as cfeat\n",
    "import matplotlib.pyplot as plt\n",
    "\n",
    "import iris\n",
    "import iris.plot as iplt\n",
    "import iris.quickplot as qplt\n",
    "\n"
   ]
  },
  {
   "cell_type": "code",
   "execution_count": null,
   "metadata": {},
   "outputs": [
    {
     "name": "stdout",
     "output_type": "stream",
     "text": [
      "Collecting cartopy\n",
      "  Downloading Cartopy-0.21.1.tar.gz (10.9 MB)\n",
      "\u001b[K     |████████████████████████████████| 10.9 MB 232 kB/s eta 0:00:01\n",
      "\u001b[?25h  Installing build dependencies ... \u001b[?25ldone\n",
      "\u001b[?25h  Getting requirements to build wheel ... \u001b[?25ldone\n",
      "\u001b[?25h    Preparing wheel metadata ... \u001b[?25ldone\n",
      "\u001b[?25hRequirement already satisfied: matplotlib>=3.1 in /opt/anaconda3/lib/python3.9/site-packages (from cartopy) (3.5.1)\n",
      "Collecting pyshp>=2.1\n",
      "  Downloading pyshp-2.3.1-py2.py3-none-any.whl (46 kB)\n",
      "\u001b[K     |████████████████████████████████| 46 kB 2.5 MB/s eta 0:00:01\n",
      "\u001b[?25hCollecting shapely>=1.6.4\n",
      "  Using cached shapely-2.0.1-cp39-cp39-macosx_10_9_x86_64.whl (1.4 MB)\n",
      "Requirement already satisfied: numpy>=1.18 in /opt/anaconda3/lib/python3.9/site-packages (from cartopy) (1.21.5)\n",
      "Collecting pyproj>=3.0.0\n",
      "  Downloading pyproj-3.5.0-cp39-cp39-macosx_10_9_x86_64.whl (8.5 MB)\n",
      "\u001b[K     |████████████████████▊           | 5.5 MB 406 kB/s eta 0:00:08"
     ]
    }
   ],
   "source": [
    "!pip install cartopy\n"
   ]
  },
  {
   "cell_type": "code",
   "execution_count": null,
   "metadata": {},
   "outputs": [],
   "source": [
    "\n",
    "\n",
    "def main():\n",
    "    # Load the u and v components of wind from a pp file.\n",
    "    infile = iris.sample_data_path(\"wind_speed_lake_victoria.pp\")\n",
    "\n",
    "    uwind = iris.load_cube(infile, \"x_wind\")\n",
    "    vwind = iris.load_cube(infile, \"y_wind\")\n",
    "\n",
    "    # Create a cube containing the wind speed.\n",
    "    windspeed = (uwind**2 + vwind**2) ** 0.5\n",
    "    windspeed.rename(\"windspeed\")\n",
    "\n",
    "    # Plot the wind speed as a contour plot.\n",
    "    qplt.contourf(windspeed, 20)\n",
    "\n",
    "    # Show the lake on the current axes.\n",
    "    lakes = cfeat.NaturalEarthFeature(\n",
    "        \"physical\", \"lakes\", \"50m\", facecolor=\"none\"\n",
    "    )\n",
    "    plt.gca().add_feature(lakes)\n",
    "\n",
    "    # Add arrows to show the wind vectors.\n",
    "    iplt.quiver(uwind, vwind, pivot=\"middle\")\n",
    "\n",
    "    plt.title(\"Wind speed over Lake Victoria\")\n",
    "    qplt.show()\n",
    "\n",
    "    # Normalise the data for uniform arrow size.\n",
    "    u_norm = uwind / windspeed\n",
    "    v_norm = vwind / windspeed\n",
    "\n",
    "    # Make a new figure for the normalised plot.\n",
    "    plt.figure()\n",
    "\n",
    "    qplt.contourf(windspeed, 20)\n",
    "    plt.gca().add_feature(lakes)\n",
    "    iplt.quiver(u_norm, v_norm, pivot=\"middle\")\n",
    "\n",
    "    plt.title(\"Wind speed over Lake Victoria\")\n",
    "    qplt.show()\n",
    "\n",
    "\n",
    "if __name__ == \"__main__\":\n",
    "    main()"
   ]
  }
 ],
 "metadata": {
  "kernelspec": {
   "display_name": "Python 3 (ipykernel)",
   "language": "python",
   "name": "python3"
  },
  "language_info": {
   "codemirror_mode": {
    "name": "ipython",
    "version": 3
   },
   "file_extension": ".py",
   "mimetype": "text/x-python",
   "name": "python",
   "nbconvert_exporter": "python",
   "pygments_lexer": "ipython3",
   "version": "3.9.12"
  }
 },
 "nbformat": 4,
 "nbformat_minor": 1
}
